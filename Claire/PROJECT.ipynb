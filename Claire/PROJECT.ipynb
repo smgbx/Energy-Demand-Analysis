{
  "nbformat": 4,
  "nbformat_minor": 0,
  "metadata": {
    "colab": {
      "name": "PROJECT.ipynb",
      "provenance": [],
      "collapsed_sections": []
    },
    "kernelspec": {
      "name": "python3",
      "display_name": "Python 3"
    }
  },
  "cells": [
    {
      "cell_type": "markdown",
      "metadata": {
        "id": "jv2ZAxB9Otmi"
      },
      "source": [
        "\n",
        "Part1\n",
        "1. Import the dataset and create data frames directly on import.\n",
        "\n",
        "\n"
      ]
    },
    {
      "cell_type": "code",
      "metadata": {
        "id": "Wtj2wtMnAatY",
        "colab": {
          "base_uri": "https://localhost:8080/"
        },
        "outputId": "46aeddc2-7e36-4baf-c419-37af6ee948ff"
      },
      "source": [
        "pip install pyspark"
      ],
      "execution_count": 2,
      "outputs": [
        {
          "output_type": "stream",
          "text": [
            "Collecting pyspark\n",
            "\u001b[?25l  Downloading https://files.pythonhosted.org/packages/f0/26/198fc8c0b98580f617cb03cb298c6056587b8f0447e20fa40c5b634ced77/pyspark-3.0.1.tar.gz (204.2MB)\n",
            "\u001b[K     |████████████████████████████████| 204.2MB 60kB/s \n",
            "\u001b[?25hCollecting py4j==0.10.9\n",
            "\u001b[?25l  Downloading https://files.pythonhosted.org/packages/9e/b6/6a4fb90cd235dc8e265a6a2067f2a2c99f0d91787f06aca4bcf7c23f3f80/py4j-0.10.9-py2.py3-none-any.whl (198kB)\n",
            "\u001b[K     |████████████████████████████████| 204kB 23.6MB/s \n",
            "\u001b[?25hBuilding wheels for collected packages: pyspark\n",
            "  Building wheel for pyspark (setup.py) ... \u001b[?25l\u001b[?25hdone\n",
            "  Created wheel for pyspark: filename=pyspark-3.0.1-py2.py3-none-any.whl size=204612243 sha256=2be441034cd53f25c49f8f6b32d5bdb1218020ae138a8325740248b2029e0a70\n",
            "  Stored in directory: /root/.cache/pip/wheels/5e/bd/07/031766ca628adec8435bb40f0bd83bb676ce65ff4007f8e73f\n",
            "Successfully built pyspark\n",
            "Installing collected packages: py4j, pyspark\n",
            "Successfully installed py4j-0.10.9 pyspark-3.0.1\n"
          ],
          "name": "stdout"
        }
      ]
    },
    {
      "cell_type": "code",
      "metadata": {
        "id": "nQULSdBS8jVi"
      },
      "source": [
        "import csv\n",
        "from pyspark.sql import SparkSession\n",
        "import pyspark.sql.functions as filter\n",
        "Spark = SparkSession \\\n",
        "    .builder \\\n",
        "    .appName(\"Spark project\") \\\n",
        "    .getOrCreate()\n",
        "#part1 question 1\n",
        "df = Spark.read.csv(r\"/content/weather_features.csv\",header=True)\n",
        "df.createOrReplaceTempView(\"Weather\")"
      ],
      "execution_count": 3,
      "outputs": []
    },
    {
      "cell_type": "code",
      "metadata": {
        "id": "yFsoo8b0crSi"
      },
      "source": [
        "import csv\n",
        "from pyspark.sql import SparkSession\n",
        "import pyspark.sql.functions as filter\n",
        "Spark = SparkSession \\\n",
        "    .builder \\\n",
        "    .appName(\"Spark project\") \\\n",
        "    .getOrCreate()\n",
        "#part1 question 1\n",
        "df = Spark.read.csv(r\"/content/energy_dataset.csv\",header=True)\n",
        "df.createOrReplaceTempView(\"Energy\")"
      ],
      "execution_count": 4,
      "outputs": []
    },
    {
      "cell_type": "code",
      "metadata": {
        "id": "Gx8Woh-iGhFs"
      },
      "source": [
        "Spark.sql(\"select * from Weather where city_name = 'Madrid' or weather_main = 'clouds'\").createTempView(\"madrid\")"
      ],
      "execution_count": 8,
      "outputs": []
    },
    {
      "cell_type": "code",
      "metadata": {
        "colab": {
          "base_uri": "https://localhost:8080/"
        },
        "id": "yQS2tN8oAVw6",
        "outputId": "a5e9e6bc-447f-41c6-bbe0-eb03357d264a"
      },
      "source": [
        "Spark.sql(\"select dt_iso,city_name,temp_max,temp_min from Weather where city_name = 'Madrid' ORDER BY temp_max desc\").show()"
      ],
      "execution_count": 32,
      "outputs": [
        {
          "output_type": "stream",
          "text": [
            "+-------------------+---------+--------+--------+\n",
            "|             dt_iso|city_name|temp_max|temp_min|\n",
            "+-------------------+---------+--------+--------+\n",
            "|2016-09-06 14:00:00|   Madrid|  316.48|  307.04|\n",
            "|2016-09-06 15:00:00|   Madrid|  316.48|  308.15|\n",
            "|2016-09-07 15:00:00|   Madrid|  315.37|  309.05|\n",
            "|2017-07-13 18:00:00|   Madrid|  315.15|  310.15|\n",
            "|2016-09-06 13:00:00|   Madrid|  314.82|  303.71|\n",
            "|2016-09-07 14:00:00|   Madrid|  314.82|  307.04|\n",
            "|2015-07-07 12:00:00|   Madrid|  314.75|  305.15|\n",
            "|2015-06-28 12:00:00|   Madrid|  314.65|  304.15|\n",
            "|2015-07-08 12:00:00|   Madrid|  314.55|  305.15|\n",
            "|2015-07-07 11:00:00|   Madrid|  314.25|  303.15|\n",
            "|2015-07-14 12:00:00|   Madrid|  314.25|  303.71|\n",
            "|2015-07-06 19:00:00|   Madrid|  314.15|  310.75|\n",
            "|2015-07-06 20:00:00|   Madrid|  314.15|  309.75|\n",
            "|2017-07-14 18:00:00|   Madrid|  314.15|  310.15|\n",
            "|2017-07-13 20:00:00|   Madrid|  314.15|  310.15|\n",
            "|2017-07-13 17:00:00|   Madrid|  314.15|  310.15|\n",
            "|2017-07-14 19:00:00|   Madrid|  314.15|  310.15|\n",
            "|2018-08-03 18:00:00|   Madrid|  314.15|  310.15|\n",
            "|2017-07-13 19:00:00|   Madrid|  314.15|  310.15|\n",
            "|2018-08-03 17:00:00|   Madrid|  314.15|  310.15|\n",
            "+-------------------+---------+--------+--------+\n",
            "only showing top 20 rows\n",
            "\n"
          ],
          "name": "stdout"
        }
      ]
    },
    {
      "cell_type": "code",
      "metadata": {
        "id": "8AzsFLy7HPUV"
      },
      "source": [
        "Spark.sql(\"select * from Weather where city_name = 'Barcelona' or weather_main = 'clouds'\").createTempView(\"barcelonatable\")"
      ],
      "execution_count": 13,
      "outputs": []
    },
    {
      "cell_type": "code",
      "metadata": {
        "colab": {
          "base_uri": "https://localhost:8080/"
        },
        "id": "c-a6x6cyBt3F",
        "outputId": "f31dd9f3-70bd-4103-8256-d30552493bfc"
      },
      "source": [
        "Spark.sql(\"select generation_hydro_water_reservoir,price_actual from Energy ORDER BY generation_hydro_water_reservoir desc\").show()"
      ],
      "execution_count": 16,
      "outputs": [
        {
          "output_type": "stream",
          "text": [
            "+--------------------------------+------------+\n",
            "|generation_hydro_water_reservoir|price_actual|\n",
            "+--------------------------------+------------+\n",
            "|                           999.0|       46.29|\n",
            "|                           999.0|       42.88|\n",
            "|                           999.0|       44.59|\n",
            "|                           999.0|       76.86|\n",
            "|                           999.0|       66.82|\n",
            "|                           999.0|       51.29|\n",
            "|                           999.0|       54.81|\n",
            "|                           999.0|       60.24|\n",
            "|                           999.0|       61.96|\n",
            "|                           999.0|       59.07|\n",
            "|                           999.0|       45.42|\n",
            "|                           999.0|       58.44|\n",
            "|                           999.0|       79.33|\n",
            "|                           999.0|       59.43|\n",
            "|                           999.0|       69.58|\n",
            "|                           999.0|       73.05|\n",
            "|                           999.0|       53.18|\n",
            "|                           999.0|       75.81|\n",
            "|                           998.0|       75.95|\n",
            "|                           998.0|       52.66|\n",
            "+--------------------------------+------------+\n",
            "only showing top 20 rows\n",
            "\n"
          ],
          "name": "stdout"
        }
      ]
    },
    {
      "cell_type": "code",
      "metadata": {
        "id": "hIxdxfc4IDNc",
        "colab": {
          "base_uri": "https://localhost:8080/"
        },
        "outputId": "26230695-d3bc-471f-db04-c0e90b5ee8c6"
      },
      "source": [
        "\n",
        "Spark.sql(\"select * from madrid union select * from barcelonatable order by temp\").show(50)"
      ],
      "execution_count": 20,
      "outputs": [
        {
          "output_type": "stream",
          "text": [
            "+-------------------+----------+--------+--------+--------+--------+--------+----------+--------+-------+-------+-------+----------+----------+------------+-------------------+------------+\n",
            "|             dt_iso| city_name|    temp|temp_min|temp_max|pressure|humidity|wind_speed|wind_deg|rain_1h|rain_3h|snow_3h|clouds_all|weather_id|weather_main|weather_description|weather_icon|\n",
            "+-------------------+----------+--------+--------+--------+--------+--------+----------+--------+-------+-------+-------+----------+----------+------------+-------------------+------------+\n",
            "|2015-02-23 10:00:00| Barcelona|  262.24|  262.24|  262.24|    1007|       0|         3|     335|    0.0|    0.0|    0.0|        24|       801|      clouds|         few clouds|         02d|\n",
            "|2015-02-08 06:00:00|    Madrid| 264.132| 264.132| 264.132|     961|      80|         1|       8|    0.0|    0.0|    0.0|         0|       800|       clear|       sky is clear|         01n|\n",
            "|2015-01-24 05:00:00|    Madrid| 264.428| 264.428| 264.428|     965|      64|         1|     348|    0.0|    0.0|    0.0|         0|       800|       clear|       sky is clear|         01n|\n",
            "|2015-01-24 06:00:00|    Madrid| 264.428| 264.428| 264.428|     965|      64|         1|     348|    0.0|    0.0|    0.0|         0|       800|       clear|       sky is clear|         01n|\n",
            "|2015-02-07 02:00:00|    Madrid| 265.091| 265.091| 265.091|     954|      73|         1|     295|    0.0|    0.0|    0.0|        32|       802|      clouds|   scattered clouds|         03n|\n",
            "|2015-02-07 03:00:00|    Madrid| 265.091| 265.091| 265.091|     954|      73|         1|     295|    0.0|    0.0|    0.0|        32|       802|      clouds|   scattered clouds|         03n|\n",
            "|2015-01-24 04:00:00|    Madrid| 265.261| 265.261| 265.261|     964|      69|         1|     276|    0.0|    0.0|    0.0|         0|       800|       clear|       sky is clear|         01n|\n",
            "|2015-01-24 02:00:00|    Madrid| 265.261| 265.261| 265.261|     964|      69|         1|     276|    0.0|    0.0|    0.0|         0|       800|       clear|       sky is clear|         01n|\n",
            "|2015-01-24 03:00:00|    Madrid| 265.261| 265.261| 265.261|     964|      69|         1|     276|    0.0|    0.0|    0.0|         0|       800|       clear|       sky is clear|          01|\n",
            "|2015-01-01 05:00:00|    Madrid| 265.442| 265.442| 265.442|     972|      64|         0|     240|    0.0|    0.0|    0.0|         0|       800|       clear|       sky is clear|         01n|\n",
            "|2015-01-01 06:00:00|    Madrid| 265.442| 265.442| 265.442|     972|      64|         0|     240|    0.0|    0.0|    0.0|         0|       800|       clear|       sky is clear|         01n|\n",
            "|2015-01-01 07:00:00|    Madrid| 265.442| 265.442| 265.442|     972|      64|         0|     240|    0.0|    0.0|    0.0|         0|       800|       clear|       sky is clear|         01n|\n",
            "|2015-02-08 05:00:00|    Madrid|265.6245|265.6245|265.6245|     993|      87|         2|      15|    0.0|    0.0|    0.0|         0|       800|       clear|       sky is clear|          01|\n",
            "|2015-02-07 04:00:00|    Madrid| 265.638| 265.638| 265.638|     954|      75|         1|     277|    0.0|    0.0|    0.0|         8|       800|       clear|       sky is clear|         02n|\n",
            "|2015-01-02 05:00:00|    Madrid| 265.902| 265.902| 265.902|     975|      62|         1|      13|    0.0|    0.0|    0.0|         0|       800|       clear|       sky is clear|         01n|\n",
            "|2015-01-02 07:00:00|    Madrid| 265.902| 265.902| 265.902|     975|      62|         1|      13|    0.0|    0.0|    0.0|         0|       800|       clear|       sky is clear|         01n|\n",
            "|2015-01-02 06:00:00|    Madrid| 265.902| 265.902| 265.902|     975|      62|         1|      13|    0.0|    0.0|    0.0|         0|       800|       clear|       sky is clear|         01n|\n",
            "|2015-01-24 01:00:00|    Madrid|266.0235|266.0235|266.0235|     964|      69|         1|     138|    0.0|    0.0|    0.0|         0|       800|       clear|       sky is clear|          01|\n",
            "|2015-01-26 05:00:00|    Madrid| 266.024| 266.024| 266.024|     967|      69|         1|      31|    0.0|    0.0|    0.0|         0|       800|       clear|       sky is clear|         01n|\n",
            "|2015-01-26 07:00:00|    Madrid| 266.024| 266.024| 266.024|     967|      69|         1|      31|    0.0|    0.0|    0.0|         0|       800|       clear|       sky is clear|         01n|\n",
            "|2015-01-26 06:00:00|    Madrid| 266.024| 266.024| 266.024|     967|      69|         1|      31|    0.0|    0.0|    0.0|         0|       800|       clear|       sky is clear|         01n|\n",
            "|2015-01-24 07:00:00|    Madrid|266.1065|266.1065|266.1065|     966|      68|         1|     177|    0.0|    0.0|    0.0|         0|       800|       clear|       sky is clear|          01|\n",
            "|2015-02-07 06:00:00|    Madrid| 266.149| 266.149| 266.149|     954|      76|         1|     260|    0.0|    0.0|    0.0|        56|       803|      clouds|      broken clouds|         04n|\n",
            "|2015-02-07 05:00:00|    Madrid| 266.149| 266.149| 266.149|     954|      76|         1|     260|    0.0|    0.0|    0.0|        56|       803|      clouds|      broken clouds|         04n|\n",
            "|2015-02-07 07:00:00|    Madrid| 266.149| 266.149| 266.149|     954|      76|         1|     260|    0.0|    0.0|    0.0|        56|       803|      clouds|      broken clouds|         04n|\n",
            "|2015-01-01 03:00:00|    Madrid| 266.186| 266.186| 266.186|     971|      64|         1|     273|    0.0|    0.0|    0.0|         0|       800|       clear|       sky is clear|         01n|\n",
            "|2015-01-01 04:00:00|    Madrid| 266.186| 266.186| 266.186|     971|      64|         1|     273|    0.0|    0.0|    0.0|         0|       800|       clear|       sky is clear|         01n|\n",
            "|2015-01-01 02:00:00|    Madrid| 266.186| 266.186| 266.186|     971|      64|         1|     273|    0.0|    0.0|    0.0|         0|       800|       clear|       sky is clear|         01n|\n",
            "|2015-01-02 03:00:00|    Madrid| 266.389| 266.389| 266.389|     974|      64|         1|     314|    0.0|    0.0|    0.0|         0|       800|       clear|       sky is clear|         01n|\n",
            "|2015-01-02 02:00:00|    Madrid| 266.389| 266.389| 266.389|     974|      64|         1|     314|    0.0|    0.0|    0.0|         0|       800|       clear|       sky is clear|         01n|\n",
            "|2015-01-02 04:00:00|    Madrid| 266.389| 266.389| 266.389|     974|      64|         1|     314|    0.0|    0.0|    0.0|         0|       800|       clear|       sky is clear|         01n|\n",
            "|2015-02-08 02:00:00|    Madrid| 266.464| 266.464| 266.464|     961|      79|         2|      24|    0.0|    0.0|    0.0|         0|       800|       clear|       sky is clear|         01n|\n",
            "|2015-02-08 04:00:00|    Madrid| 266.464| 266.464| 266.464|     961|      79|         2|      24|    0.0|    0.0|    0.0|         0|       800|       clear|       sky is clear|         01n|\n",
            "|2015-01-26 03:00:00|    Madrid| 266.581| 266.581| 266.581|     967|      70|         1|      22|    0.0|    0.0|    0.0|         0|       800|       clear|       sky is clear|         01n|\n",
            "|2015-01-26 04:00:00|    Madrid| 266.581| 266.581| 266.581|     967|      70|         1|      22|    0.0|    0.0|    0.0|         0|       800|       clear|       sky is clear|         01n|\n",
            "|2015-01-26 02:00:00|    Madrid| 266.581| 266.581| 266.581|     967|      70|         1|      22|    0.0|    0.0|    0.0|         0|       800|       clear|       sky is clear|         01n|\n",
            "|2015-02-08 07:00:00|    Madrid| 266.594| 266.594| 266.594|     961|      79|         1|      18|    0.0|    0.0|    0.0|         0|       800|       clear|       sky is clear|          01|\n",
            "|2015-01-08 07:00:00|    Madrid| 266.774| 266.774| 266.774|     973|      66|         1|      32|    0.0|    0.0|    0.0|         0|       800|       clear|       sky is clear|         01n|\n",
            "|2015-01-08 08:00:00|    Madrid| 266.774| 266.774| 266.774|     973|      66|         1|      32|    0.0|    0.0|    0.0|         0|       800|       clear|       sky is clear|         01n|\n",
            "|2015-01-08 06:00:00|    Madrid| 266.774| 266.774| 266.774|     973|      66|         1|      32|    0.0|    0.0|    0.0|         0|       800|       clear|       sky is clear|         01n|\n",
            "|2015-01-24 00:00:00|    Madrid| 266.786| 266.786| 266.786|     964|      69|         0|       1|    0.0|    0.0|    0.0|         0|       800|       clear|       sky is clear|         01n|\n",
            "|2015-02-08 03:00:00|    Madrid|266.7905|266.7905|266.7905|     993|      87|         2|      23|    0.0|    0.0|    0.0|         0|       800|       clear|       sky is clear|          01|\n",
            "|2015-02-06 23:00:00|    Madrid| 267.067| 267.067| 267.067|     954|      79|         1|     330|    0.0|    0.0|    0.0|         0|       800|       clear|       sky is clear|         01n|\n",
            "|2015-02-07 00:00:00|    Madrid| 267.067| 267.067| 267.067|     954|      79|         1|     330|    0.0|    0.0|    0.0|         0|       800|       clear|       sky is clear|         01n|\n",
            "|2015-02-07 01:00:00|    Madrid| 267.067| 267.067| 267.067|     954|      79|         1|     330|    0.0|    0.0|    0.0|         0|       800|       clear|       sky is clear|         01n|\n",
            "|2015-01-03 07:00:00|    Madrid| 267.069| 267.069| 267.069|     976|      60|         0|     119|    0.0|    0.0|    0.0|         0|       800|       clear|       sky is clear|         01n|\n",
            "|2015-01-03 08:00:00|    Madrid| 267.069| 267.069| 267.069|     976|      60|         0|     119|    0.0|    0.0|    0.0|         0|       800|       clear|       sky is clear|         01n|\n",
            "|2015-01-03 06:00:00|    Madrid| 267.069| 267.069| 267.069|     976|      60|         0|     119|    0.0|    0.0|    0.0|         0|       800|       clear|       sky is clear|         01n|\n",
            "|2015-01-02 00:00:00|    Madrid| 267.129| 267.129| 267.129|     975|      64|         1|     254|    0.0|    0.0|    0.0|         0|       800|       clear|       sky is clear|         01n|\n",
            "|2015-01-01 23:00:00|    Madrid| 267.129| 267.129| 267.129|     975|      64|         1|     254|    0.0|    0.0|    0.0|         0|       800|       clear|       sky is clear|         01n|\n",
            "+-------------------+----------+--------+--------+--------+--------+--------+----------+--------+-------+-------+-------+----------+----------+------------+-------------------+------------+\n",
            "only showing top 50 rows\n",
            "\n"
          ],
          "name": "stdout"
        }
      ]
    },
    {
      "cell_type": "code",
      "metadata": {
        "colab": {
          "base_uri": "https://localhost:8080/"
        },
        "id": "3ZlCMg7pMqES",
        "outputId": "50029851-5e71-4544-c773-d7e1fc026536"
      },
      "source": [
        "Spark.sql(\"select city_name,temp,weather_main from Weather order by temp\").show(50)"
      ],
      "execution_count": 23,
      "outputs": [
        {
          "output_type": "stream",
          "text": [
            "+----------+--------+------------+\n",
            "| city_name|    temp|weather_main|\n",
            "+----------+--------+------------+\n",
            "| Barcelona|  262.24|      clouds|\n",
            "|    Madrid| 264.132|       clear|\n",
            "|    Madrid| 264.428|       clear|\n",
            "|    Madrid| 264.428|       clear|\n",
            "|    Madrid| 265.091|      clouds|\n",
            "|    Madrid| 265.091|      clouds|\n",
            "|    Madrid| 265.261|       clear|\n",
            "|    Madrid| 265.261|       clear|\n",
            "|    Madrid| 265.261|       clear|\n",
            "|    Madrid| 265.442|       clear|\n",
            "|    Madrid| 265.442|       clear|\n",
            "|    Madrid| 265.442|       clear|\n",
            "|    Madrid|265.6245|       clear|\n",
            "|    Madrid| 265.638|       clear|\n",
            "|    Madrid| 265.902|       clear|\n",
            "|    Madrid| 265.902|       clear|\n",
            "|    Madrid| 265.902|       clear|\n",
            "|    Madrid|266.0235|       clear|\n",
            "|    Madrid| 266.024|       clear|\n",
            "|    Madrid| 266.024|       clear|\n",
            "|    Madrid| 266.024|       clear|\n",
            "|    Madrid|266.1065|       clear|\n",
            "|    Madrid| 266.149|      clouds|\n",
            "|    Madrid| 266.149|      clouds|\n",
            "|    Madrid| 266.149|      clouds|\n",
            "|    Madrid| 266.186|       clear|\n",
            "|    Madrid| 266.186|       clear|\n",
            "|    Madrid| 266.186|       clear|\n",
            "|    Madrid| 266.389|       clear|\n",
            "|    Madrid| 266.389|       clear|\n",
            "|    Madrid| 266.389|       clear|\n",
            "|    Madrid| 266.464|       clear|\n",
            "|    Madrid| 266.464|       clear|\n",
            "|    Madrid| 266.581|       clear|\n",
            "|    Madrid| 266.581|       clear|\n",
            "|    Madrid| 266.581|       clear|\n",
            "|    Madrid| 266.594|       clear|\n",
            "|    Madrid| 266.774|       clear|\n",
            "|    Madrid| 266.774|       clear|\n",
            "|    Madrid| 266.774|       clear|\n",
            "|    Madrid| 266.786|       clear|\n",
            "|    Madrid|266.7905|       clear|\n",
            "|    Bilbao|  266.85|       clear|\n",
            "|    Madrid| 267.067|       clear|\n",
            "|    Madrid| 267.067|       clear|\n",
            "|    Madrid| 267.067|       clear|\n",
            "|    Madrid| 267.069|       clear|\n",
            "|    Madrid| 267.069|       clear|\n",
            "|    Madrid| 267.069|       clear|\n",
            "|    Madrid| 267.129|       clear|\n",
            "+----------+--------+------------+\n",
            "only showing top 50 rows\n",
            "\n"
          ],
          "name": "stdout"
        }
      ]
    },
    {
      "cell_type": "code",
      "metadata": {
        "id": "7Ij6hgDVIuNk",
        "colab": {
          "base_uri": "https://localhost:8080/"
        },
        "outputId": "0c2a1c65-3672-4aa1-8cae-68a18c16e050"
      },
      "source": [
        "Spark.sql(\"select * from Weather where weather_description = 'mist'\").show()"
      ],
      "execution_count": 13,
      "outputs": [
        {
          "output_type": "stream",
          "text": [
            "+-------------------+---------+------+--------+--------+--------+--------+----------+--------+-------+-------+-------+----------+----------+------------+-------------------+------------+\n",
            "|             dt_iso|city_name|  temp|temp_min|temp_max|pressure|humidity|wind_speed|wind_deg|rain_1h|rain_3h|snow_3h|clouds_all|weather_id|weather_main|weather_description|weather_icon|\n",
            "+-------------------+---------+------+--------+--------+--------+--------+----------+--------+-------+-------+-------+----------+----------+------------+-------------------+------------+\n",
            "|2015-03-04 08:00:00| Valencia|287.19|  286.15|  288.05|    1024|      87|         1|       0|    0.0|    0.0|    0.0|        90|       701|        mist|               mist|         50d|\n",
            "|2015-03-04 09:00:00| Valencia| 286.7|  285.15|  288.05|    1025|      93|         1|       0|    0.0|    0.0|    0.0|        90|       701|        mist|               mist|         50d|\n",
            "|2015-03-04 10:00:00| Valencia|287.19|  286.15|  288.05|    1026|      87|         0|       0|    0.0|    0.0|    0.0|        90|       701|        mist|               mist|         50d|\n",
            "|2015-03-04 11:00:00| Valencia| 288.1|  288.05|  288.15|    1026|      82|         0|     104|    0.0|    0.0|    0.0|        40|       701|        mist|               mist|         50d|\n",
            "|2015-11-07 20:00:00| Valencia|292.15|  292.15|  292.15|    1028|      88|         0|       0|    0.0|    0.0|    0.0|         0|       701|        mist|               mist|         50n|\n",
            "|2015-11-07 22:00:00| Valencia|289.15|  289.15|  289.15|    1029|      93|         2|     320|    0.0|    0.0|    0.0|         0|       701|        mist|               mist|         50n|\n",
            "|2015-11-08 02:00:00| Valencia|286.15|  286.15|  286.15|    1029|     100|         1|      54|    0.0|    0.0|    0.0|         0|       701|        mist|               mist|         50n|\n",
            "|2015-11-08 04:00:00| Valencia|286.15|  286.15|  286.15|    1029|      93|         1|       0|    0.0|    0.0|    0.0|         0|       701|        mist|               mist|         50n|\n",
            "|2015-11-09 01:00:00| Valencia|287.15|  287.15|  287.15|    1031|      93|         1|       0|    0.0|    0.0|    0.0|        48|       701|        mist|               mist|         50n|\n",
            "|2015-11-09 03:00:00| Valencia|285.15|  285.15|  285.15|    1031|     100|         1|     290|    0.0|    0.0|    0.0|         8|       701|        mist|               mist|         50n|\n",
            "|2015-11-09 22:00:00| Valencia|287.15|  287.15|  287.15|    1032|      93|         0|       0|    0.0|    0.0|    0.0|         0|       701|        mist|               mist|         50n|\n",
            "|2015-11-10 00:00:00| Valencia|285.15|  285.15|  285.15|    1031|     100|         1|       0|    0.0|    0.0|    0.0|         0|       701|        mist|               mist|         50n|\n",
            "|2015-11-10 02:00:00| Valencia|284.15|  284.15|  284.15|    1031|      93|         1|     301|    0.0|    0.0|    0.0|         0|       701|        mist|               mist|         50n|\n",
            "|2015-11-10 04:00:00| Valencia|283.15|  283.15|  283.15|    1030|     100|         1|       0|    0.0|    0.0|    0.0|         0|       701|        mist|               mist|         50n|\n",
            "|2015-11-11 22:00:00| Valencia|286.15|  286.15|  286.15|    1025|      93|         1|       0|    0.0|    0.0|    0.0|         0|       701|        mist|               mist|         50n|\n",
            "|2015-11-12 00:00:00| Valencia|285.15|  285.15|  285.15|    1025|      93|         1|       0|    0.0|    0.0|    0.0|         0|       701|        mist|               mist|         50n|\n",
            "|2015-11-12 02:00:00| Valencia|284.15|  284.15|  284.15|    1025|      93|         0|       0|    0.0|    0.0|    0.0|        20|       701|        mist|               mist|         50n|\n",
            "|2015-11-12 04:00:00| Valencia|285.15|  285.15|  285.15|    1025|      93|         1|       0|    0.0|    0.0|    0.0|        75|       701|        mist|               mist|         50n|\n",
            "|2015-11-14 02:00:00| Valencia|286.15|  286.15|  286.15|    1032|      93|         1|     307|    0.0|    0.0|    0.0|        20|       701|        mist|               mist|         50n|\n",
            "|2015-11-14 04:00:00| Valencia|285.15|  285.15|  285.15|    1032|      93|         1|     300|    0.0|    0.0|    0.0|        32|       701|        mist|               mist|         50n|\n",
            "+-------------------+---------+------+--------+--------+--------+--------+----------+--------+-------+-------+-------+----------+----------+------------+-------------------+------------+\n",
            "only showing top 20 rows\n",
            "\n"
          ],
          "name": "stdout"
        }
      ]
    },
    {
      "cell_type": "code",
      "metadata": {
        "id": "9IwyN1cSLBl0",
        "colab": {
          "base_uri": "https://localhost:8080/"
        },
        "outputId": "cc880aa7-9c80-49c8-fc24-6b79aa114e9f"
      },
      "source": [
        "Spark.sql(\"select avg(temp) from Weather\").show()"
      ],
      "execution_count": 25,
      "outputs": [
        {
          "output_type": "stream",
          "text": [
            "+-------------------------+\n",
            "|avg(CAST(temp AS DOUBLE))|\n",
            "+-------------------------+\n",
            "|        289.6186050165249|\n",
            "+-------------------------+\n",
            "\n"
          ],
          "name": "stdout"
        }
      ]
    },
    {
      "cell_type": "code",
      "metadata": {
        "id": "iEPxQqvXd2lE",
        "colab": {
          "base_uri": "https://localhost:8080/"
        },
        "outputId": "cc319a17-eabf-47d3-aac6-8829f2574c5f"
      },
      "source": [
        "Spark.sql(\"select max(pressure) from Weather\").show()"
      ],
      "execution_count": 17,
      "outputs": [
        {
          "output_type": "stream",
          "text": [
            "+-------------+\n",
            "|max(pressure)|\n",
            "+-------------+\n",
            "|        99915|\n",
            "+-------------+\n",
            "\n"
          ],
          "name": "stdout"
        }
      ]
    },
    {
      "cell_type": "code",
      "metadata": {
        "id": "aryugs5aLmFn",
        "colab": {
          "base_uri": "https://localhost:8080/"
        },
        "outputId": "b1b79a3d-a4cf-44ee-a556-09999614e085"
      },
      "source": [
        "Spark.sql(\"select forecast_solar_day_ahead,price_day_ahead from Energy ORDER by price_day_ahead\").show()\n"
      ],
      "execution_count": 26,
      "outputs": [
        {
          "output_type": "stream",
          "text": [
            "+------------------------+---------------+\n",
            "|forecast_solar_day_ahead|price_day_ahead|\n",
            "+------------------------+---------------+\n",
            "|                     5.0|           10.0|\n",
            "|                  4632.0|           10.0|\n",
            "|                   577.0|           10.0|\n",
            "|                     0.0|           10.0|\n",
            "|                     5.0|           10.0|\n",
            "|                     1.0|           10.0|\n",
            "|                   241.0|           10.0|\n",
            "|                     0.0|           10.0|\n",
            "|                  4507.0|           10.0|\n",
            "|                  4947.0|           10.0|\n",
            "|                   527.0|           10.0|\n",
            "|                    72.0|           10.0|\n",
            "|                     0.0|           10.0|\n",
            "|                     2.0|           10.0|\n",
            "|                   127.0|           10.0|\n",
            "|                     5.0|           10.0|\n",
            "|                  3451.0|           10.0|\n",
            "|                  3452.0|           10.0|\n",
            "|                  2070.0|           10.0|\n",
            "|                     2.0|           10.0|\n",
            "+------------------------+---------------+\n",
            "only showing top 20 rows\n",
            "\n"
          ],
          "name": "stdout"
        }
      ]
    },
    {
      "cell_type": "code",
      "metadata": {
        "id": "PfH_vlCVoZmA"
      },
      "source": [
        ""
      ],
      "execution_count": null,
      "outputs": []
    },
    {
      "cell_type": "code",
      "metadata": {
        "colab": {
          "base_uri": "https://localhost:8080/"
        },
        "id": "CY1OYHT5guWP",
        "outputId": "5be61d1b-61a5-4edf-9e24-c90106431cc3"
      },
      "source": [
        "Spark.sql(\"select distinct(city_name),temp_max,weather_main from weather where weather_main = 'clouds'\").show(100)"
      ],
      "execution_count": 27,
      "outputs": [
        {
          "output_type": "stream",
          "text": [
            "+----------+-----------------+------------+\n",
            "| city_name|         temp_max|weather_main|\n",
            "+----------+-----------------+------------+\n",
            "|  Valencia|           290.55|      clouds|\n",
            "|  Valencia|          285.915|      clouds|\n",
            "|  Valencia|          289.036|      clouds|\n",
            "|  Valencia|     289.13434375|      clouds|\n",
            "|  Valencia|           291.54|      clouds|\n",
            "|  Valencia|         290.2775|      clouds|\n",
            "|  Valencia|      291.3213125|      clouds|\n",
            "|  Valencia|          294.844|      clouds|\n",
            "|  Valencia|           295.84|      clouds|\n",
            "|  Valencia|         284.8215|      clouds|\n",
            "|  Valencia|          276.245|      clouds|\n",
            "|  Valencia|          278.185|      clouds|\n",
            "|  Valencia|         292.9595|      clouds|\n",
            "|  Valencia|           298.25|      clouds|\n",
            "|  Valencia|          292.765|      clouds|\n",
            "|    Madrid|      286.5243125|      clouds|\n",
            "|    Madrid|         293.4075|      clouds|\n",
            "|    Madrid|          288.435|      clouds|\n",
            "|    Madrid|           289.25|      clouds|\n",
            "|    Bilbao|     280.15534375|      clouds|\n",
            "|    Bilbao|     272.83565625|      clouds|\n",
            "|    Bilbao|      285.0163125|      clouds|\n",
            "|    Bilbao|           274.05|      clouds|\n",
            "|    Bilbao|         286.9325|      clouds|\n",
            "|    Bilbao|     278.88834375|      clouds|\n",
            "|    Bilbao|     293.80465625|      clouds|\n",
            "|    Bilbao|     292.38034375|      clouds|\n",
            "|    Bilbao|     294.47465625|      clouds|\n",
            "|    Bilbao|         288.6875|      clouds|\n",
            "|    Bilbao|          286.765|      clouds|\n",
            "|    Bilbao|          286.075|      clouds|\n",
            "|    Bilbao|           280.26|      clouds|\n",
            "|    Bilbao|           278.04|      clouds|\n",
            "|    Bilbao|         283.8295|      clouds|\n",
            "|    Bilbao|           284.43|      clouds|\n",
            "|    Bilbao|          282.847|      clouds|\n",
            "| Barcelona|           286.16|      clouds|\n",
            "| Barcelona|           283.91|      clouds|\n",
            "| Barcelona|     283.62634375|      clouds|\n",
            "| Barcelona|         286.9325|      clouds|\n",
            "| Barcelona|           289.76|      clouds|\n",
            "| Barcelona|          292.081|      clouds|\n",
            "| Barcelona|          291.776|      clouds|\n",
            "| Barcelona|         287.4185|      clouds|\n",
            "| Barcelona|         287.1785|      clouds|\n",
            "| Barcelona|288.9120000000001|      clouds|\n",
            "|   Seville|          279.373|      clouds|\n",
            "|   Seville|          288.593|      clouds|\n",
            "|   Seville|     286.19465625|      clouds|\n",
            "|   Seville|         286.3275|      clouds|\n",
            "|   Seville|289.7920000000001|      clouds|\n",
            "|   Seville|          292.117|      clouds|\n",
            "|   Seville|          292.701|      clouds|\n",
            "|   Seville|          292.777|      clouds|\n",
            "|   Seville|            294.2|      clouds|\n",
            "|  Valencia|287.9290000000001|      clouds|\n",
            "|  Valencia|         286.3345|      clouds|\n",
            "|  Valencia|289.8640000000001|      clouds|\n",
            "|  Valencia|           296.35|      clouds|\n",
            "|  Valencia|           293.65|      clouds|\n",
            "|  Valencia|          282.779|      clouds|\n",
            "|  Valencia|           289.75|      clouds|\n",
            "|  Valencia|         284.6785|      clouds|\n",
            "|  Valencia|           286.57|      clouds|\n",
            "|  Valencia|           288.74|      clouds|\n",
            "|  Valencia|          282.765|      clouds|\n",
            "|  Valencia|     290.48334375|      clouds|\n",
            "|    Madrid|          285.587|      clouds|\n",
            "|    Madrid|          285.332|      clouds|\n",
            "|    Madrid|         282.4175|      clouds|\n",
            "|    Madrid|          290.445|      clouds|\n",
            "|    Madrid|          285.579|      clouds|\n",
            "|    Madrid|          297.398|      clouds|\n",
            "|    Madrid|           293.45|      clouds|\n",
            "|    Madrid|           275.25|      clouds|\n",
            "|    Bilbao|     284.85334375|      clouds|\n",
            "|    Bilbao|     277.77565625|      clouds|\n",
            "|    Bilbao|     276.66934375|      clouds|\n",
            "|    Bilbao|     291.17734375|      clouds|\n",
            "|    Bilbao|          293.783|      clouds|\n",
            "|    Bilbao|          286.702|      clouds|\n",
            "|    Bilbao|           294.43|      clouds|\n",
            "|    Bilbao|           286.34|      clouds|\n",
            "|    Bilbao|           280.19|      clouds|\n",
            "|    Bilbao|          281.283|      clouds|\n",
            "|    Bilbao|          280.945|      clouds|\n",
            "|    Bilbao|          278.475|      clouds|\n",
            "|    Bilbao|          279.621|      clouds|\n",
            "|    Bilbao|          286.297|      clouds|\n",
            "| Barcelona|           285.06|      clouds|\n",
            "| Barcelona|      288.9123125|      clouds|\n",
            "| Barcelona|          289.038|      clouds|\n",
            "| Barcelona|         285.6935|      clouds|\n",
            "| Barcelona|         285.4795|      clouds|\n",
            "| Barcelona|          286.921|      clouds|\n",
            "| Barcelona|           286.04|      clouds|\n",
            "| Barcelona|          282.645|      clouds|\n",
            "|   Seville|         288.5375|      clouds|\n",
            "|   Seville|          309.068|      clouds|\n",
            "|   Seville|          294.831|      clouds|\n",
            "+----------+-----------------+------------+\n",
            "only showing top 100 rows\n",
            "\n"
          ],
          "name": "stdout"
        }
      ]
    }
  ]
}