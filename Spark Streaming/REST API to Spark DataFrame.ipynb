{
 "cells": [
  {
   "cell_type": "code",
   "execution_count": null,
   "metadata": {},
   "outputs": [],
   "source": [
    "# https://datanoon.com/blog/loading_data_rest_api_to_spark/"
   ]
  },
  {
   "cell_type": "code",
   "execution_count": 1,
   "metadata": {},
   "outputs": [],
   "source": [
    "import requests\n",
    "import json"
   ]
  },
  {
   "cell_type": "code",
   "execution_count": null,
   "metadata": {},
   "outputs": [],
   "source": [
    "from pyspark import SparkConf, SparkContext\n",
    "from pyspark.sql.session import SparkSession\n",
    "\n",
    "conf = SparkConf().setAppName(\"app1\").setMaster(\"local\")\n",
    "sc = SparkContext('local', 'CurrentWeather')\n",
    "spark = SparkSession(sc)"
   ]
  },
  {
   "cell_type": "code",
   "execution_count": 5,
   "metadata": {},
   "outputs": [],
   "source": [
    "# function to make the call to the REST API service\n",
    "\n",
    "def get_weather():\n",
    "    url = f\"https://api.openweathermap.org/data/2.5/weather?q=barcelona&appid=24b234cb23d2bddfc71ee6db0e1b1d6c\"\n",
    "    response = requests.get(url)\n",
    "    return response"
   ]
  },
  {
   "cell_type": "code",
   "execution_count": 13,
   "metadata": {},
   "outputs": [
    {
     "name": "stdout",
     "output_type": "stream",
     "text": [
      "{\"coord\":{\"lon\":2.16,\"lat\":41.39},\"weather\":[{\"id\":800,\"main\":\"Clear\",\"description\":\"clear sky\",\"icon\":\"01n\"}],\"base\":\"stations\",\"main\":{\"temp\":279.57,\"feels_like\":277.09,\"temp_min\":277.15,\"temp_max\":280.93,\"pressure\":994,\"humidity\":70},\"visibility\":10000,\"wind\":{\"speed\":1,\"deg\":300},\"clouds\":{\"all\":0},\"dt\":1607114959,\"sys\":{\"type\":1,\"id\":6398,\"country\":\"ES\",\"sunrise\":1607065291,\"sunset\":1607098936},\"timezone\":3600,\"id\":3128760,\"name\":\"Barcelona\",\"cod\":200}\n"
     ]
    }
   ],
   "source": [
    "weather = get_weather()\n",
    "\n",
    "# visualize the request results\n",
    "print(weather.text)"
   ]
  },
  {
   "cell_type": "code",
   "execution_count": 14,
   "metadata": {},
   "outputs": [
    {
     "name": "stdout",
     "output_type": "stream",
     "text": [
      "+--------+------+---+-------------+----------+-------+--------------------+---------+--------------------+--------+----------+--------------------+--------+\n",
      "|    base|clouds|cod|        coord|        dt|     id|                main|     name|                 sys|timezone|visibility|             weather|    wind|\n",
      "+--------+------+---+-------------+----------+-------+--------------------+---------+--------------------+--------+----------+--------------------+--------+\n",
      "|stations|   [0]|200|[41.39, 2.16]|1607114959|3128760|[277.09, 70, 994,...|Barcelona|[ES, 6398, 160706...|    3600|     10000|[[clear sky, 01n,...|[300, 1]|\n",
      "+--------+------+---+-------------+----------+-------+--------------------+---------+--------------------+--------+----------+--------------------+--------+\n",
      "\n"
     ]
    }
   ],
   "source": [
    "# creating a df from the json and saving the results\n",
    "json_rdd = sc.parallelize([weather.text])\n",
    "json_df = spark.read.json(json_rdd)\n",
    "json_df.show()\n",
    "json_df.rdd.saveAsTextFile('current_weather')"
   ]
  },
  {
   "cell_type": "code",
   "execution_count": 16,
   "metadata": {},
   "outputs": [],
   "source": [
    "sc.stop() "
   ]
  }
 ],
 "metadata": {
  "kernelspec": {
   "display_name": "py37",
   "language": "python",
   "name": "py37"
  },
  "language_info": {
   "codemirror_mode": {
    "name": "ipython",
    "version": 3
   },
   "file_extension": ".py",
   "mimetype": "text/x-python",
   "name": "python",
   "nbconvert_exporter": "python",
   "pygments_lexer": "ipython3",
   "version": "3.7.8"
  }
 },
 "nbformat": 4,
 "nbformat_minor": 4
}
